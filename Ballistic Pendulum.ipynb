{
 "cells": [
  {
   "cell_type": "code",
   "execution_count": null,
   "id": "b19e24e7",
   "metadata": {},
   "outputs": [],
   "source": []
  },
  {
   "cell_type": "code",
   "execution_count": null,
   "id": "1e7c9edc",
   "metadata": {},
   "outputs": [],
   "source": []
  },
  {
   "cell_type": "markdown",
   "id": "493c5f5f",
   "metadata": {},
   "source": [
    "$\\delta Q = cmA^{m-1}\\delta A$"
   ]
  },
  {
   "cell_type": "markdown",
   "id": "6af730d2",
   "metadata": {},
   "source": [
    "$\\delta F = c\\delta A$"
   ]
  },
  {
   "cell_type": "markdown",
   "id": "c6ca606b",
   "metadata": {},
   "source": [
    "$\\delta Q= \\sqrt{(\\delta A)^2 + (\\delta B)^2}$"
   ]
  },
  {
   "cell_type": "markdown",
   "id": "8b2f0d6a",
   "metadata": {},
   "source": [
    "$\\frac{\\delta Q}{Q}$ = $\\sqrt{((m\\delta A) / A)^2 + ((n\\delta B)/B)^2}$"
   ]
  },
  {
   "cell_type": "markdown",
   "id": "fa4fd4ae",
   "metadata": {},
   "source": [
    "${\\delta V} = v*\\sqrt{((\\delta x)/x)^2 + (((-1/2) * \\delta y)/y)^2}$"
   ]
  },
  {
   "cell_type": "code",
   "execution_count": 112,
   "id": "3f310b84",
   "metadata": {},
   "outputs": [],
   "source": [
    "def rule1 (c,dA):\n",
    "    dQ=c*dA\n",
    "    return dQ"
   ]
  },
  {
   "cell_type": "code",
   "execution_count": 113,
   "id": "eaa64c7d",
   "metadata": {},
   "outputs": [],
   "source": [
    "def rule2 (c,m,A,dA):\n",
    "    dQ=c*m*A**(m-1)*dA\n",
    "    return dQ"
   ]
  },
  {
   "cell_type": "code",
   "execution_count": 114,
   "id": "260346be",
   "metadata": {},
   "outputs": [],
   "source": [
    "def rule3 (dA,dB):\n",
    "    dQ=sqrt(dA**2+dB**2)\n",
    "    return dQ"
   ]
  },
  {
   "cell_type": "code",
   "execution_count": 115,
   "id": "3dd00ece",
   "metadata": {},
   "outputs": [
    {
     "name": "stdout",
     "output_type": "stream",
     "text": [
      "0.0029028311382341505\n"
     ]
    }
   ],
   "source": [
    "def rule4(m,dX,x,n,dY,y,Q):\n",
    "    dQ=Q*np.sqrt((m*dX/x)**2+(n*dY/y)**2)\n",
    "    return dQ\n",
    "    \n",
    "m= 1\n",
    "dX= 0.001\n",
    "x= 1.5901\n",
    "n= -0.5\n",
    "dY= 0.001\n",
    "y= 1.005\n",
    "Q= 3.62\n",
    "\n",
    "dQ=rule4(m,dX,x,n,dY,y,Q)\n",
    "print(dQ)"
   ]
  },
  {
   "cell_type": "markdown",
   "id": "a8d6fa48",
   "metadata": {},
   "source": [
    "The results agree."
   ]
  },
  {
   "cell_type": "code",
   "execution_count": 116,
   "id": "08e2f0a7",
   "metadata": {},
   "outputs": [
    {
     "name": "stdout",
     "output_type": "stream",
     "text": [
      "[3.3  3.9  4.2  2.7  2.85 3.15]\n",
      "[10.89   15.21   17.64    7.29    8.1225  9.9225]\n",
      "1.1166666666666667 0.08027729719194864\n"
     ]
    }
   ],
   "source": [
    "x=np.array([1.1,1.3,1.4,0.9,0.95,1.05])\n",
    "y=x*3\n",
    "print (y)\n",
    "ysg=y**2\n",
    "print (ysg)\n",
    "\n",
    "err_x=np.std(x)/np.sqrt(5)\n",
    "avgx=np.average(x)\n",
    "print(avgx,err_x)"
   ]
  }
 ],
 "metadata": {
  "kernelspec": {
   "display_name": "Python 3",
   "language": "python",
   "name": "python3"
  },
  "language_info": {
   "codemirror_mode": {
    "name": "ipython",
    "version": 3
   },
   "file_extension": ".py",
   "mimetype": "text/x-python",
   "name": "python",
   "nbconvert_exporter": "python",
   "pygments_lexer": "ipython3",
   "version": "3.8.8"
  }
 },
 "nbformat": 4,
 "nbformat_minor": 5
}
